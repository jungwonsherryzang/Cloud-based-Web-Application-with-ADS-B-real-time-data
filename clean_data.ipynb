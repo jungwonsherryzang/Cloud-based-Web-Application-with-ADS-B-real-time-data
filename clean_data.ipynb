{
  "nbformat": 4,
  "nbformat_minor": 0,
  "metadata": {
    "colab": {
      "name": "clean_data.ipynb",
      "provenance": [],
      "authorship_tag": "ABX9TyO85a7z6NDlsCkuYuE4vCeG",
      "include_colab_link": true
    },
    "kernelspec": {
      "name": "python3",
      "display_name": "Python 3"
    },
    "language_info": {
      "name": "python"
    }
  },
  "cells": [
    {
      "cell_type": "markdown",
      "metadata": {
        "id": "view-in-github",
        "colab_type": "text"
      },
      "source": [
        "<a href=\"https://colab.research.google.com/github/jungwonsherryzang/Cloud-based-Web-Application-with-ADS-B-real-time-data/blob/main/clean_data.ipynb\" target=\"_parent\"><img src=\"https://colab.research.google.com/assets/colab-badge.svg\" alt=\"Open In Colab\"/></a>"
      ]
    },
    {
      "cell_type": "code",
      "execution_count": 24,
      "metadata": {
        "id": "At-jLxpuKc_v"
      },
      "outputs": [],
      "source": [
        "#!pip3 install flightradar24\n",
        "#!pip3 install --upgrade google-cloud\n",
        "#!pip3 install --upgrade google-cloud-storage\n",
        "#!pip3 install --upgrade google-cloud-bigquery\n",
        "#!pip install --upgrade pandas_gbq\n",
        "#!pip install pyarrow\n",
        "#!pip install mysql-connector-python"
      ]
    },
    {
      "cell_type": "code",
      "source": [
        "#!pip3 install geopandas\n",
        "#!pip3 install geoplot"
      ],
      "metadata": {
        "id": "jP_1yfT2K5Cb"
      },
      "execution_count": 25,
      "outputs": []
    },
    {
      "cell_type": "code",
      "source": [
        "from google.cloud import bigquery\n",
        "import mysql.connector\n",
        "import pandas as pd\n",
        "import json\n",
        "import flightradar24\n",
        "import requests\n",
        "import math\n",
        "import os\n",
        "from datetime import datetime\n",
        "import geopandas as gpd\n",
        "import geoplot as gplt\n",
        "import folium\n",
        "from branca.element import Figure\n",
        "fr = fr = flightradar24.Api()"
      ],
      "metadata": {
        "id": "qulpMm8gKzxv"
      },
      "execution_count": 5,
      "outputs": []
    },
    {
      "cell_type": "markdown",
      "source": [
        "# **Python Code for Populating OpenSky Data onto Google Cloud**"
      ],
      "metadata": {
        "id": "_Kkiv5fgLe6o"
      }
    },
    {
      "cell_type": "markdown",
      "source": [
        "Find Airport Information"
      ],
      "metadata": {
        "id": "GP4pFn-JLjhA"
      }
    },
    {
      "cell_type": "code",
      "source": [
        "def findAirportLoc(name):\n",
        "    #FlightRadar24\n",
        "    dataAirport = fr.get_airports()\n",
        "    listAirport= dataAirport['rows']\n",
        "    for airport in listAirport:\n",
        "        if(name in airport['name']):\n",
        "            return airport['lat'], airport['lon']"
      ],
      "metadata": {
        "id": "h6hFZDXYLhY6"
      },
      "execution_count": 17,
      "outputs": []
    },
    {
      "cell_type": "markdown",
      "source": [
        "Set the distance around airport for OpenSky data"
      ],
      "metadata": {
        "id": "I3MVNKrjLsQH"
      }
    },
    {
      "cell_type": "code",
      "source": [
        "def findLocRange(lat_center,long_center):\n",
        "    #20km range\n",
        "    range = 0.09\n",
        "    lat_min = lat_center - range\n",
        "    lat_max = lat_center + range\n",
        "    long_min = long_center - (range/ math.cos(lat_center*math.pi/180))\n",
        "    long_max = long_center + (range / math.cos(lat_center*math.pi/180))\n",
        "    return lat_min,lat_max,long_min,long_max"
      ],
      "metadata": {
        "id": "efZDiWDLLs3a"
      },
      "execution_count": 7,
      "outputs": []
    },
    {
      "cell_type": "markdown",
      "source": [
        "Queries Opensky network with given lat and lon information and returns data as pandas dataframe"
      ],
      "metadata": {
        "id": "huTuK4TCLvaC"
      }
    },
    {
      "cell_type": "code",
      "source": [
        "def collectData(lat_min, lat_max, long_min, long_max):\n",
        "    r = requests.get('https://opensky-network.org/api/states/all?lamin='+lat_min+'&lomin='+long_min+'&lamax='+lat_max+'&lomax='+long_max)\n",
        "    r.status_code\n",
        "    file=r.json()\n",
        "\n",
        "    df=pd.DataFrame(file['states'],columns=['icao24', 'callsign','origin_country','time_position','last_contact',\n",
        "                                            'longitude','latitude','baro_altitude','on_ground','velocity',\n",
        "                                            'true_track','vertical_rate','sensors','geo_altitude','squawk','spi','x','y']).drop(columns=['x','y']).assign(obs_time= lambda x: file['time'])\n",
        "    df[['time_position','last_contact','obs_time']] = df[['time_position','last_contact','obs_time']].apply(pd.to_datetime, unit='s')\n",
        "    #df.set_index(['obs_time', 'callsign'],inplace=True)\n",
        "    return df"
      ],
      "metadata": {
        "id": "edUvYdpsLy2z"
      },
      "execution_count": 8,
      "outputs": []
    },
    {
      "cell_type": "markdown",
      "source": [
        "Cleans Pandas DataFrame"
      ],
      "metadata": {
        "id": "Gpfc39MYL2ZG"
      }
    },
    {
      "cell_type": "code",
      "source": [
        "def cleanDataframe(df):\n",
        "    df = df.drop(columns=['sensors','squawk'])\n",
        "    df = df.where(pd.notnull(df), None)\n",
        "    df = df.reset_index(drop=True)\n",
        "    return df"
      ],
      "metadata": {
        "id": "ek3tFOTwL3GO"
      },
      "execution_count": 9,
      "outputs": []
    },
    {
      "cell_type": "markdown",
      "source": [
        "Pushes cleaned DataFrame to the cloud"
      ],
      "metadata": {
        "id": "DlgOWfJpL6UW"
      }
    },
    {
      "cell_type": "code",
      "source": [
        "def connectQuery(df):\n",
        "    credentials = r'https://github.com/jungwonsherryzang/Cloud-based-Web-Application-with-ADS-B-real-time-data/blob/main/cs540-project-key.json'\n",
        "    os.environ['Google_APPLICATION_CREDENTIALS'] = credentials\n",
        "    client = bigquery.Client()\n",
        "    table_id = 'cs540-project.Flights.AllData'\n",
        "    df = df.to_gbq(table_id , if_exists='append')"
      ],
      "metadata": {
        "id": "L9cWrA6lL62G"
      },
      "execution_count": 18,
      "outputs": []
    },
    {
      "cell_type": "markdown",
      "source": [
        "Test Purposes Only"
      ],
      "metadata": {
        "id": "vkxm6i57MBmE"
      }
    },
    {
      "cell_type": "code",
      "source": [
        "def createTest(): #Test the database on the test table\n",
        "    credentials = r'https://github.com/jungwonsherryzang/Cloud-based-Web-Application-with-ADS-B-real-time-data/blob/main/cs540-project-key.json'\n",
        "    os.environ['Google_APPLICATION_CREDENTIALS'] = credentials\n",
        "    client = bigquery.Client()\n",
        "    table_id = 'cs540-project.Flights.Test'\n",
        "    rows_to_insert = [\n",
        "        {u'Name' : 'Mike', u'Age': 23},\n",
        "        {u'Name' : 'DummyData', u'Age': 24},\n",
        "        ]\n",
        "    errors = client.insert_rows_json(table_id,rows_to_insert)"
      ],
      "metadata": {
        "id": "q_N0LRMzMCG2"
      },
      "execution_count": 19,
      "outputs": []
    },
    {
      "cell_type": "markdown",
      "source": [
        "Main function which starts process"
      ],
      "metadata": {
        "id": "ynlLo5OPMFzS"
      }
    },
    {
      "cell_type": "code",
      "source": [
        "def main():\n",
        "    \n",
        "    lat_center, long_center = findAirportLoc('Daytona')\n",
        "    lat_min, lat_max, long_min, long_max = findLocRange(lat_center, long_center)\n",
        "    df = collectData(str(lat_min), str(lat_max), str(long_min), str(long_max))\n",
        "    df = cleanDataframe(df)\n",
        "    #connectQuery(df)\n",
        "    return(df)\n",
        "    \n",
        "adsb_df = main()"
      ],
      "metadata": {
        "id": "f51OkxXVMEbl"
      },
      "execution_count": 12,
      "outputs": []
    },
    {
      "cell_type": "code",
      "source": [
        "adsb_df"
      ],
      "metadata": {
        "colab": {
          "base_uri": "https://localhost:8080/",
          "height": 405
        },
        "id": "gRBNzP8wN44Z",
        "outputId": "e6835e81-9054-43df-cacc-b8d320d2fd65"
      },
      "execution_count": 23,
      "outputs": [
        {
          "output_type": "execute_result",
          "data": {
            "text/plain": [
              "   icao24  callsign origin_country       time_position        last_contact  \\\n",
              "0  abadf9  SWA2384   United States 2022-04-11 01:15:40 2022-04-11 01:15:40   \n",
              "1  ab2786  EPI262    United States 2022-04-11 01:15:39 2022-04-11 01:15:39   \n",
              "2  ab3506  ERU821    United States 2022-04-11 01:14:31 2022-04-11 01:14:34   \n",
              "3  ac05a6  ERU874    United States 2022-04-11 01:15:39 2022-04-11 01:15:39   \n",
              "4  a1e395  N22010    United States 2022-04-11 01:13:24 2022-04-11 01:13:24   \n",
              "5  a65c8f  JED185    United States 2022-04-11 01:14:12 2022-04-11 01:14:12   \n",
              "\n",
              "   longitude  latitude  baro_altitude  on_ground  velocity  true_track  \\\n",
              "0   -81.1336   29.1053        3505.20      False    177.62      159.31   \n",
              "1   -81.0765   29.1732          68.58      False     44.42       61.65   \n",
              "2   -81.0589   29.1753         -22.86      False     32.23       65.48   \n",
              "3   -81.0750   29.1638         137.16      False     42.83      335.90   \n",
              "4   -81.0592   29.1751         -22.86      False     32.45       64.65   \n",
              "5   -81.0777   29.1727         -30.48      False     34.48       88.29   \n",
              "\n",
              "   vertical_rate  geo_altitude    spi            obs_time  \n",
              "0          -9.10       3649.98  False 2022-04-11 01:15:40  \n",
              "1           4.23         99.06  False 2022-04-11 01:15:40  \n",
              "2          -3.58         15.24  False 2022-04-11 01:15:40  \n",
              "3          -1.30        182.88  False 2022-04-11 01:15:40  \n",
              "4          -1.30          7.62  False 2022-04-11 01:15:40  \n",
              "5          -3.25          7.62  False 2022-04-11 01:15:40  "
            ],
            "text/html": [
              "\n",
              "  <div id=\"df-7f97a848-d139-446a-9f65-e74ba8c31880\">\n",
              "    <div class=\"colab-df-container\">\n",
              "      <div>\n",
              "<style scoped>\n",
              "    .dataframe tbody tr th:only-of-type {\n",
              "        vertical-align: middle;\n",
              "    }\n",
              "\n",
              "    .dataframe tbody tr th {\n",
              "        vertical-align: top;\n",
              "    }\n",
              "\n",
              "    .dataframe thead th {\n",
              "        text-align: right;\n",
              "    }\n",
              "</style>\n",
              "<table border=\"1\" class=\"dataframe\">\n",
              "  <thead>\n",
              "    <tr style=\"text-align: right;\">\n",
              "      <th></th>\n",
              "      <th>icao24</th>\n",
              "      <th>callsign</th>\n",
              "      <th>origin_country</th>\n",
              "      <th>time_position</th>\n",
              "      <th>last_contact</th>\n",
              "      <th>longitude</th>\n",
              "      <th>latitude</th>\n",
              "      <th>baro_altitude</th>\n",
              "      <th>on_ground</th>\n",
              "      <th>velocity</th>\n",
              "      <th>true_track</th>\n",
              "      <th>vertical_rate</th>\n",
              "      <th>geo_altitude</th>\n",
              "      <th>spi</th>\n",
              "      <th>obs_time</th>\n",
              "    </tr>\n",
              "  </thead>\n",
              "  <tbody>\n",
              "    <tr>\n",
              "      <th>0</th>\n",
              "      <td>abadf9</td>\n",
              "      <td>SWA2384</td>\n",
              "      <td>United States</td>\n",
              "      <td>2022-04-11 01:15:40</td>\n",
              "      <td>2022-04-11 01:15:40</td>\n",
              "      <td>-81.1336</td>\n",
              "      <td>29.1053</td>\n",
              "      <td>3505.20</td>\n",
              "      <td>False</td>\n",
              "      <td>177.62</td>\n",
              "      <td>159.31</td>\n",
              "      <td>-9.10</td>\n",
              "      <td>3649.98</td>\n",
              "      <td>False</td>\n",
              "      <td>2022-04-11 01:15:40</td>\n",
              "    </tr>\n",
              "    <tr>\n",
              "      <th>1</th>\n",
              "      <td>ab2786</td>\n",
              "      <td>EPI262</td>\n",
              "      <td>United States</td>\n",
              "      <td>2022-04-11 01:15:39</td>\n",
              "      <td>2022-04-11 01:15:39</td>\n",
              "      <td>-81.0765</td>\n",
              "      <td>29.1732</td>\n",
              "      <td>68.58</td>\n",
              "      <td>False</td>\n",
              "      <td>44.42</td>\n",
              "      <td>61.65</td>\n",
              "      <td>4.23</td>\n",
              "      <td>99.06</td>\n",
              "      <td>False</td>\n",
              "      <td>2022-04-11 01:15:40</td>\n",
              "    </tr>\n",
              "    <tr>\n",
              "      <th>2</th>\n",
              "      <td>ab3506</td>\n",
              "      <td>ERU821</td>\n",
              "      <td>United States</td>\n",
              "      <td>2022-04-11 01:14:31</td>\n",
              "      <td>2022-04-11 01:14:34</td>\n",
              "      <td>-81.0589</td>\n",
              "      <td>29.1753</td>\n",
              "      <td>-22.86</td>\n",
              "      <td>False</td>\n",
              "      <td>32.23</td>\n",
              "      <td>65.48</td>\n",
              "      <td>-3.58</td>\n",
              "      <td>15.24</td>\n",
              "      <td>False</td>\n",
              "      <td>2022-04-11 01:15:40</td>\n",
              "    </tr>\n",
              "    <tr>\n",
              "      <th>3</th>\n",
              "      <td>ac05a6</td>\n",
              "      <td>ERU874</td>\n",
              "      <td>United States</td>\n",
              "      <td>2022-04-11 01:15:39</td>\n",
              "      <td>2022-04-11 01:15:39</td>\n",
              "      <td>-81.0750</td>\n",
              "      <td>29.1638</td>\n",
              "      <td>137.16</td>\n",
              "      <td>False</td>\n",
              "      <td>42.83</td>\n",
              "      <td>335.90</td>\n",
              "      <td>-1.30</td>\n",
              "      <td>182.88</td>\n",
              "      <td>False</td>\n",
              "      <td>2022-04-11 01:15:40</td>\n",
              "    </tr>\n",
              "    <tr>\n",
              "      <th>4</th>\n",
              "      <td>a1e395</td>\n",
              "      <td>N22010</td>\n",
              "      <td>United States</td>\n",
              "      <td>2022-04-11 01:13:24</td>\n",
              "      <td>2022-04-11 01:13:24</td>\n",
              "      <td>-81.0592</td>\n",
              "      <td>29.1751</td>\n",
              "      <td>-22.86</td>\n",
              "      <td>False</td>\n",
              "      <td>32.45</td>\n",
              "      <td>64.65</td>\n",
              "      <td>-1.30</td>\n",
              "      <td>7.62</td>\n",
              "      <td>False</td>\n",
              "      <td>2022-04-11 01:15:40</td>\n",
              "    </tr>\n",
              "    <tr>\n",
              "      <th>5</th>\n",
              "      <td>a65c8f</td>\n",
              "      <td>JED185</td>\n",
              "      <td>United States</td>\n",
              "      <td>2022-04-11 01:14:12</td>\n",
              "      <td>2022-04-11 01:14:12</td>\n",
              "      <td>-81.0777</td>\n",
              "      <td>29.1727</td>\n",
              "      <td>-30.48</td>\n",
              "      <td>False</td>\n",
              "      <td>34.48</td>\n",
              "      <td>88.29</td>\n",
              "      <td>-3.25</td>\n",
              "      <td>7.62</td>\n",
              "      <td>False</td>\n",
              "      <td>2022-04-11 01:15:40</td>\n",
              "    </tr>\n",
              "  </tbody>\n",
              "</table>\n",
              "</div>\n",
              "      <button class=\"colab-df-convert\" onclick=\"convertToInteractive('df-7f97a848-d139-446a-9f65-e74ba8c31880')\"\n",
              "              title=\"Convert this dataframe to an interactive table.\"\n",
              "              style=\"display:none;\">\n",
              "        \n",
              "  <svg xmlns=\"http://www.w3.org/2000/svg\" height=\"24px\"viewBox=\"0 0 24 24\"\n",
              "       width=\"24px\">\n",
              "    <path d=\"M0 0h24v24H0V0z\" fill=\"none\"/>\n",
              "    <path d=\"M18.56 5.44l.94 2.06.94-2.06 2.06-.94-2.06-.94-.94-2.06-.94 2.06-2.06.94zm-11 1L8.5 8.5l.94-2.06 2.06-.94-2.06-.94L8.5 2.5l-.94 2.06-2.06.94zm10 10l.94 2.06.94-2.06 2.06-.94-2.06-.94-.94-2.06-.94 2.06-2.06.94z\"/><path d=\"M17.41 7.96l-1.37-1.37c-.4-.4-.92-.59-1.43-.59-.52 0-1.04.2-1.43.59L10.3 9.45l-7.72 7.72c-.78.78-.78 2.05 0 2.83L4 21.41c.39.39.9.59 1.41.59.51 0 1.02-.2 1.41-.59l7.78-7.78 2.81-2.81c.8-.78.8-2.07 0-2.86zM5.41 20L4 18.59l7.72-7.72 1.47 1.35L5.41 20z\"/>\n",
              "  </svg>\n",
              "      </button>\n",
              "      \n",
              "  <style>\n",
              "    .colab-df-container {\n",
              "      display:flex;\n",
              "      flex-wrap:wrap;\n",
              "      gap: 12px;\n",
              "    }\n",
              "\n",
              "    .colab-df-convert {\n",
              "      background-color: #E8F0FE;\n",
              "      border: none;\n",
              "      border-radius: 50%;\n",
              "      cursor: pointer;\n",
              "      display: none;\n",
              "      fill: #1967D2;\n",
              "      height: 32px;\n",
              "      padding: 0 0 0 0;\n",
              "      width: 32px;\n",
              "    }\n",
              "\n",
              "    .colab-df-convert:hover {\n",
              "      background-color: #E2EBFA;\n",
              "      box-shadow: 0px 1px 2px rgba(60, 64, 67, 0.3), 0px 1px 3px 1px rgba(60, 64, 67, 0.15);\n",
              "      fill: #174EA6;\n",
              "    }\n",
              "\n",
              "    [theme=dark] .colab-df-convert {\n",
              "      background-color: #3B4455;\n",
              "      fill: #D2E3FC;\n",
              "    }\n",
              "\n",
              "    [theme=dark] .colab-df-convert:hover {\n",
              "      background-color: #434B5C;\n",
              "      box-shadow: 0px 1px 3px 1px rgba(0, 0, 0, 0.15);\n",
              "      filter: drop-shadow(0px 1px 2px rgba(0, 0, 0, 0.3));\n",
              "      fill: #FFFFFF;\n",
              "    }\n",
              "  </style>\n",
              "\n",
              "      <script>\n",
              "        const buttonEl =\n",
              "          document.querySelector('#df-7f97a848-d139-446a-9f65-e74ba8c31880 button.colab-df-convert');\n",
              "        buttonEl.style.display =\n",
              "          google.colab.kernel.accessAllowed ? 'block' : 'none';\n",
              "\n",
              "        async function convertToInteractive(key) {\n",
              "          const element = document.querySelector('#df-7f97a848-d139-446a-9f65-e74ba8c31880');\n",
              "          const dataTable =\n",
              "            await google.colab.kernel.invokeFunction('convertToInteractive',\n",
              "                                                     [key], {});\n",
              "          if (!dataTable) return;\n",
              "\n",
              "          const docLinkHtml = 'Like what you see? Visit the ' +\n",
              "            '<a target=\"_blank\" href=https://colab.research.google.com/notebooks/data_table.ipynb>data table notebook</a>'\n",
              "            + ' to learn more about interactive tables.';\n",
              "          element.innerHTML = '';\n",
              "          dataTable['output_type'] = 'display_data';\n",
              "          await google.colab.output.renderOutput(dataTable, element);\n",
              "          const docLink = document.createElement('div');\n",
              "          docLink.innerHTML = docLinkHtml;\n",
              "          element.appendChild(docLink);\n",
              "        }\n",
              "      </script>\n",
              "    </div>\n",
              "  </div>\n",
              "  "
            ]
          },
          "metadata": {},
          "execution_count": 23
        }
      ]
    },
    {
      "cell_type": "markdown",
      "source": [
        "Build Map"
      ],
      "metadata": {
        "id": "Re9XQ35dMJts"
      }
    },
    {
      "cell_type": "code",
      "source": [
        "fig=Figure(width=550,height=350)\n",
        "m=folium.Map(width=550,height=350,location=[29.18, -81.05],zoom_start=11,min_zoom=8,max_zoom=14)\n",
        "fig.add_child(m)\n",
        "icon_url=r'https://github.com/jungwonsherryzang/Cloud-based-Web-Application-with-ADS-B-real-time-data/blob/main/plane_icon.png'\n",
        "for i in range(0,len(adsb_df)):\n",
        "    lat = adsb_df.loc[i]['latitude']\n",
        "    lon = adsb_df.loc[i]['longitude']\n",
        "    callsign = adsb_df.loc[i]['callsign']\n",
        "    new_icon = folium.features.CustomIcon(icon_url, icon_size=(16,16), icon_anchor=('center'))\n",
        "    folium.Marker([lat, lon], popup=callsign, icon=new_icon).add_to(m)\n",
        "m"
      ],
      "metadata": {
        "colab": {
          "base_uri": "https://localhost:8080/",
          "height": 372
        },
        "id": "zacnU_dAMKW1",
        "outputId": "c43820a6-b0ff-4556-d348-006698dfee6d"
      },
      "execution_count": 29,
      "outputs": [
        {
          "output_type": "execute_result",
          "data": {
            "text/plain": [
              "<folium.folium.Map at 0x7fcc70594a50>"
            ],
            "text/html": [
              "<iframe src=\"about:blank\" width=\"550\" height=\"350\"style=\"border:none !important;\" data-html=%3C%21DOCTYPE%20html%3E%0A%3Chead%3E%20%20%20%20%0A%20%20%20%20%3Cmeta%20http-equiv%3D%22content-type%22%20content%3D%22text/html%3B%20charset%3DUTF-8%22%20/%3E%0A%20%20%20%20%3Cscript%3EL_PREFER_CANVAS%3Dfalse%3B%20L_NO_TOUCH%3Dfalse%3B%20L_DISABLE_3D%3Dfalse%3B%3C/script%3E%0A%20%20%20%20%3Cscript%20src%3D%22https%3A//cdn.jsdelivr.net/npm/leaflet%401.4.0/dist/leaflet.js%22%3E%3C/script%3E%0A%20%20%20%20%3Cscript%20src%3D%22https%3A//code.jquery.com/jquery-1.12.4.min.js%22%3E%3C/script%3E%0A%20%20%20%20%3Cscript%20src%3D%22https%3A//maxcdn.bootstrapcdn.com/bootstrap/3.2.0/js/bootstrap.min.js%22%3E%3C/script%3E%0A%20%20%20%20%3Cscript%20src%3D%22https%3A//cdnjs.cloudflare.com/ajax/libs/Leaflet.awesome-markers/2.0.2/leaflet.awesome-markers.js%22%3E%3C/script%3E%0A%20%20%20%20%3Clink%20rel%3D%22stylesheet%22%20href%3D%22https%3A//cdn.jsdelivr.net/npm/leaflet%401.4.0/dist/leaflet.css%22/%3E%0A%20%20%20%20%3Clink%20rel%3D%22stylesheet%22%20href%3D%22https%3A//maxcdn.bootstrapcdn.com/bootstrap/3.2.0/css/bootstrap.min.css%22/%3E%0A%20%20%20%20%3Clink%20rel%3D%22stylesheet%22%20href%3D%22https%3A//maxcdn.bootstrapcdn.com/bootstrap/3.2.0/css/bootstrap-theme.min.css%22/%3E%0A%20%20%20%20%3Clink%20rel%3D%22stylesheet%22%20href%3D%22https%3A//maxcdn.bootstrapcdn.com/font-awesome/4.6.3/css/font-awesome.min.css%22/%3E%0A%20%20%20%20%3Clink%20rel%3D%22stylesheet%22%20href%3D%22https%3A//cdnjs.cloudflare.com/ajax/libs/Leaflet.awesome-markers/2.0.2/leaflet.awesome-markers.css%22/%3E%0A%20%20%20%20%3Clink%20rel%3D%22stylesheet%22%20href%3D%22https%3A//rawcdn.githack.com/python-visualization/folium/master/folium/templates/leaflet.awesome.rotate.css%22/%3E%0A%20%20%20%20%3Cstyle%3Ehtml%2C%20body%20%7Bwidth%3A%20100%25%3Bheight%3A%20100%25%3Bmargin%3A%200%3Bpadding%3A%200%3B%7D%3C/style%3E%0A%20%20%20%20%3Cstyle%3E%23map%20%7Bposition%3Aabsolute%3Btop%3A0%3Bbottom%3A0%3Bright%3A0%3Bleft%3A0%3B%7D%3C/style%3E%0A%20%20%20%20%0A%20%20%20%20%3Cmeta%20name%3D%22viewport%22%20content%3D%22width%3Ddevice-width%2C%0A%20%20%20%20%20%20%20%20initial-scale%3D1.0%2C%20maximum-scale%3D1.0%2C%20user-scalable%3Dno%22%20/%3E%0A%20%20%20%20%3Cstyle%3E%23map_f236993a30f24f9bb060c6b58feb13f7%20%7B%0A%20%20%20%20%20%20%20%20position%3A%20relative%3B%0A%20%20%20%20%20%20%20%20width%3A%20550.0px%3B%0A%20%20%20%20%20%20%20%20height%3A%20350.0px%3B%0A%20%20%20%20%20%20%20%20left%3A%200.0%25%3B%0A%20%20%20%20%20%20%20%20top%3A%200.0%25%3B%0A%20%20%20%20%20%20%20%20%7D%0A%20%20%20%20%3C/style%3E%0A%3C/head%3E%0A%3Cbody%3E%20%20%20%20%0A%20%20%20%20%0A%20%20%20%20%3Cdiv%20class%3D%22folium-map%22%20id%3D%22map_f236993a30f24f9bb060c6b58feb13f7%22%20%3E%3C/div%3E%0A%3C/body%3E%0A%3Cscript%3E%20%20%20%20%0A%20%20%20%20%0A%20%20%20%20%0A%20%20%20%20%20%20%20%20var%20bounds%20%3D%20null%3B%0A%20%20%20%20%0A%0A%20%20%20%20var%20map_f236993a30f24f9bb060c6b58feb13f7%20%3D%20L.map%28%0A%20%20%20%20%20%20%20%20%27map_f236993a30f24f9bb060c6b58feb13f7%27%2C%20%7B%0A%20%20%20%20%20%20%20%20center%3A%20%5B29.18%2C%20-81.05%5D%2C%0A%20%20%20%20%20%20%20%20zoom%3A%2011%2C%0A%20%20%20%20%20%20%20%20maxBounds%3A%20bounds%2C%0A%20%20%20%20%20%20%20%20layers%3A%20%5B%5D%2C%0A%20%20%20%20%20%20%20%20worldCopyJump%3A%20false%2C%0A%20%20%20%20%20%20%20%20crs%3A%20L.CRS.EPSG3857%2C%0A%20%20%20%20%20%20%20%20zoomControl%3A%20true%2C%0A%20%20%20%20%20%20%20%20%7D%29%3B%0A%0A%0A%20%20%20%20%0A%20%20%20%20var%20tile_layer_25440f8f20b64d65b50f219572e75e55%20%3D%20L.tileLayer%28%0A%20%20%20%20%20%20%20%20%27https%3A//%7Bs%7D.tile.openstreetmap.org/%7Bz%7D/%7Bx%7D/%7By%7D.png%27%2C%0A%20%20%20%20%20%20%20%20%7B%0A%20%20%20%20%20%20%20%20%22attribution%22%3A%20null%2C%0A%20%20%20%20%20%20%20%20%22detectRetina%22%3A%20false%2C%0A%20%20%20%20%20%20%20%20%22maxNativeZoom%22%3A%2014%2C%0A%20%20%20%20%20%20%20%20%22maxZoom%22%3A%2014%2C%0A%20%20%20%20%20%20%20%20%22minZoom%22%3A%208%2C%0A%20%20%20%20%20%20%20%20%22noWrap%22%3A%20false%2C%0A%20%20%20%20%20%20%20%20%22opacity%22%3A%201%2C%0A%20%20%20%20%20%20%20%20%22subdomains%22%3A%20%22abc%22%2C%0A%20%20%20%20%20%20%20%20%22tms%22%3A%20false%0A%7D%29.addTo%28map_f236993a30f24f9bb060c6b58feb13f7%29%3B%0A%20%20%20%20%0A%20%20%20%20%20%20%20%20var%20marker_458820019a684d5ab3076d4478aa29d1%20%3D%20L.marker%28%0A%20%20%20%20%20%20%20%20%20%20%20%20%5B29.1053%2C%20-81.1336%5D%2C%0A%20%20%20%20%20%20%20%20%20%20%20%20%7B%0A%20%20%20%20%20%20%20%20%20%20%20%20%20%20%20%20icon%3A%20new%20L.Icon.Default%28%29%2C%0A%20%20%20%20%20%20%20%20%20%20%20%20%20%20%20%20%7D%0A%20%20%20%20%20%20%20%20%20%20%20%20%29.addTo%28map_f236993a30f24f9bb060c6b58feb13f7%29%3B%0A%20%20%20%20%20%20%20%20%0A%20%20%20%20%0A%0A%20%20%20%20%20%20%20%20%20%20%20%20%20%20%20%20var%20custom_icon_da6a5eaa2e404bafbd4f8bf3f70b4272%20%3D%20L.icon%28%7B%0A%20%20%20%20%20%20%20%20%20%20%20%20%20%20%20%20%20%20%20%20iconUrl%3A%20%27https%3A//github.com/jungwonsherryzang/Cloud-based-Web-Application-with-ADS-B-real-time-data/blob/main/plane_icon.png%27%2C%0A%20%20%20%20%20%20%20%20%20%20%20%20%20%20%20%20%20%20%20%20iconSize%3A%20%5B16%2C16%5D%2C%0A%20%20%20%20%20%20%20%20%20%20%20%20%20%20%20%20%20%20%20%20iconAnchor%3A%20%5Bc%2Ce%5D%2C%0A%0A%20%20%20%20%20%20%20%20%20%20%20%20%20%20%20%20%20%20%20%20%0A%20%20%20%20%20%20%20%20%20%20%20%20%20%20%20%20%20%20%20%20%0A%20%20%20%20%20%20%20%20%20%20%20%20%20%20%20%20%20%20%20%20%0A%0A%20%20%20%20%20%20%20%20%20%20%20%20%20%20%20%20%20%20%20%20%0A%20%20%20%20%20%20%20%20%20%20%20%20%20%20%20%20%20%20%20%20%7D%29%3B%0A%20%20%20%20%20%20%20%20%20%20%20%20%20%20%20%20marker_458820019a684d5ab3076d4478aa29d1.setIcon%28custom_icon_da6a5eaa2e404bafbd4f8bf3f70b4272%29%3B%0A%20%20%20%20%20%20%20%20%20%20%20%20%0A%20%20%20%20%0A%20%20%20%20%20%20%20%20%20%20%20%20var%20popup_907c28487bcf4ad997beada280191b4e%20%3D%20L.popup%28%7BmaxWidth%3A%20%27100%25%27%0A%20%20%20%20%20%20%20%20%20%20%20%20%0A%20%20%20%20%20%20%20%20%20%20%20%20%7D%29%3B%0A%0A%20%20%20%20%20%20%20%20%20%20%20%20%0A%20%20%20%20%20%20%20%20%20%20%20%20%20%20%20%20var%20html_b301fac2423e4892900af14d2146d334%20%3D%20%24%28%60%3Cdiv%20id%3D%22html_b301fac2423e4892900af14d2146d334%22%20style%3D%22width%3A%20100.0%25%3B%20height%3A%20100.0%25%3B%22%3ESWA2384%20%3C/div%3E%60%29%5B0%5D%3B%0A%20%20%20%20%20%20%20%20%20%20%20%20%20%20%20%20popup_907c28487bcf4ad997beada280191b4e.setContent%28html_b301fac2423e4892900af14d2146d334%29%3B%0A%20%20%20%20%20%20%20%20%20%20%20%20%0A%0A%20%20%20%20%20%20%20%20%20%20%20%20marker_458820019a684d5ab3076d4478aa29d1.bindPopup%28popup_907c28487bcf4ad997beada280191b4e%29%0A%20%20%20%20%20%20%20%20%20%20%20%20%3B%0A%0A%20%20%20%20%20%20%20%20%20%20%20%20%0A%20%20%20%20%20%20%20%20%0A%20%20%20%20%0A%20%20%20%20%20%20%20%20var%20marker_f11275a852744590a1430f974f9660dc%20%3D%20L.marker%28%0A%20%20%20%20%20%20%20%20%20%20%20%20%5B29.1732%2C%20-81.0765%5D%2C%0A%20%20%20%20%20%20%20%20%20%20%20%20%7B%0A%20%20%20%20%20%20%20%20%20%20%20%20%20%20%20%20icon%3A%20new%20L.Icon.Default%28%29%2C%0A%20%20%20%20%20%20%20%20%20%20%20%20%20%20%20%20%7D%0A%20%20%20%20%20%20%20%20%20%20%20%20%29.addTo%28map_f236993a30f24f9bb060c6b58feb13f7%29%3B%0A%20%20%20%20%20%20%20%20%0A%20%20%20%20%0A%0A%20%20%20%20%20%20%20%20%20%20%20%20%20%20%20%20var%20custom_icon_bc5fa684b2344bb7b882eb392ab97c6b%20%3D%20L.icon%28%7B%0A%20%20%20%20%20%20%20%20%20%20%20%20%20%20%20%20%20%20%20%20iconUrl%3A%20%27https%3A//github.com/jungwonsherryzang/Cloud-based-Web-Application-with-ADS-B-real-time-data/blob/main/plane_icon.png%27%2C%0A%20%20%20%20%20%20%20%20%20%20%20%20%20%20%20%20%20%20%20%20iconSize%3A%20%5B16%2C16%5D%2C%0A%20%20%20%20%20%20%20%20%20%20%20%20%20%20%20%20%20%20%20%20iconAnchor%3A%20%5Bc%2Ce%5D%2C%0A%0A%20%20%20%20%20%20%20%20%20%20%20%20%20%20%20%20%20%20%20%20%0A%20%20%20%20%20%20%20%20%20%20%20%20%20%20%20%20%20%20%20%20%0A%20%20%20%20%20%20%20%20%20%20%20%20%20%20%20%20%20%20%20%20%0A%0A%20%20%20%20%20%20%20%20%20%20%20%20%20%20%20%20%20%20%20%20%0A%20%20%20%20%20%20%20%20%20%20%20%20%20%20%20%20%20%20%20%20%7D%29%3B%0A%20%20%20%20%20%20%20%20%20%20%20%20%20%20%20%20marker_f11275a852744590a1430f974f9660dc.setIcon%28custom_icon_bc5fa684b2344bb7b882eb392ab97c6b%29%3B%0A%20%20%20%20%20%20%20%20%20%20%20%20%0A%20%20%20%20%0A%20%20%20%20%20%20%20%20%20%20%20%20var%20popup_034d03566ee74197b2af9069c638ab11%20%3D%20L.popup%28%7BmaxWidth%3A%20%27100%25%27%0A%20%20%20%20%20%20%20%20%20%20%20%20%0A%20%20%20%20%20%20%20%20%20%20%20%20%7D%29%3B%0A%0A%20%20%20%20%20%20%20%20%20%20%20%20%0A%20%20%20%20%20%20%20%20%20%20%20%20%20%20%20%20var%20html_93bed6e5ba224975803af124ef097834%20%3D%20%24%28%60%3Cdiv%20id%3D%22html_93bed6e5ba224975803af124ef097834%22%20style%3D%22width%3A%20100.0%25%3B%20height%3A%20100.0%25%3B%22%3EEPI262%20%20%3C/div%3E%60%29%5B0%5D%3B%0A%20%20%20%20%20%20%20%20%20%20%20%20%20%20%20%20popup_034d03566ee74197b2af9069c638ab11.setContent%28html_93bed6e5ba224975803af124ef097834%29%3B%0A%20%20%20%20%20%20%20%20%20%20%20%20%0A%0A%20%20%20%20%20%20%20%20%20%20%20%20marker_f11275a852744590a1430f974f9660dc.bindPopup%28popup_034d03566ee74197b2af9069c638ab11%29%0A%20%20%20%20%20%20%20%20%20%20%20%20%3B%0A%0A%20%20%20%20%20%20%20%20%20%20%20%20%0A%20%20%20%20%20%20%20%20%0A%20%20%20%20%0A%20%20%20%20%20%20%20%20var%20marker_b3bf31f32f6f496782e5bbc22b297d00%20%3D%20L.marker%28%0A%20%20%20%20%20%20%20%20%20%20%20%20%5B29.1753%2C%20-81.0589%5D%2C%0A%20%20%20%20%20%20%20%20%20%20%20%20%7B%0A%20%20%20%20%20%20%20%20%20%20%20%20%20%20%20%20icon%3A%20new%20L.Icon.Default%28%29%2C%0A%20%20%20%20%20%20%20%20%20%20%20%20%20%20%20%20%7D%0A%20%20%20%20%20%20%20%20%20%20%20%20%29.addTo%28map_f236993a30f24f9bb060c6b58feb13f7%29%3B%0A%20%20%20%20%20%20%20%20%0A%20%20%20%20%0A%0A%20%20%20%20%20%20%20%20%20%20%20%20%20%20%20%20var%20custom_icon_1138b23cce7e4843b2288b0bc074a3c2%20%3D%20L.icon%28%7B%0A%20%20%20%20%20%20%20%20%20%20%20%20%20%20%20%20%20%20%20%20iconUrl%3A%20%27https%3A//github.com/jungwonsherryzang/Cloud-based-Web-Application-with-ADS-B-real-time-data/blob/main/plane_icon.png%27%2C%0A%20%20%20%20%20%20%20%20%20%20%20%20%20%20%20%20%20%20%20%20iconSize%3A%20%5B16%2C16%5D%2C%0A%20%20%20%20%20%20%20%20%20%20%20%20%20%20%20%20%20%20%20%20iconAnchor%3A%20%5Bc%2Ce%5D%2C%0A%0A%20%20%20%20%20%20%20%20%20%20%20%20%20%20%20%20%20%20%20%20%0A%20%20%20%20%20%20%20%20%20%20%20%20%20%20%20%20%20%20%20%20%0A%20%20%20%20%20%20%20%20%20%20%20%20%20%20%20%20%20%20%20%20%0A%0A%20%20%20%20%20%20%20%20%20%20%20%20%20%20%20%20%20%20%20%20%0A%20%20%20%20%20%20%20%20%20%20%20%20%20%20%20%20%20%20%20%20%7D%29%3B%0A%20%20%20%20%20%20%20%20%20%20%20%20%20%20%20%20marker_b3bf31f32f6f496782e5bbc22b297d00.setIcon%28custom_icon_1138b23cce7e4843b2288b0bc074a3c2%29%3B%0A%20%20%20%20%20%20%20%20%20%20%20%20%0A%20%20%20%20%0A%20%20%20%20%20%20%20%20%20%20%20%20var%20popup_f8cc43fe26b9486eaa3d669e49e42fe0%20%3D%20L.popup%28%7BmaxWidth%3A%20%27100%25%27%0A%20%20%20%20%20%20%20%20%20%20%20%20%0A%20%20%20%20%20%20%20%20%20%20%20%20%7D%29%3B%0A%0A%20%20%20%20%20%20%20%20%20%20%20%20%0A%20%20%20%20%20%20%20%20%20%20%20%20%20%20%20%20var%20html_9347603a18494312ba00fe98617a1c4f%20%3D%20%24%28%60%3Cdiv%20id%3D%22html_9347603a18494312ba00fe98617a1c4f%22%20style%3D%22width%3A%20100.0%25%3B%20height%3A%20100.0%25%3B%22%3EERU821%20%20%3C/div%3E%60%29%5B0%5D%3B%0A%20%20%20%20%20%20%20%20%20%20%20%20%20%20%20%20popup_f8cc43fe26b9486eaa3d669e49e42fe0.setContent%28html_9347603a18494312ba00fe98617a1c4f%29%3B%0A%20%20%20%20%20%20%20%20%20%20%20%20%0A%0A%20%20%20%20%20%20%20%20%20%20%20%20marker_b3bf31f32f6f496782e5bbc22b297d00.bindPopup%28popup_f8cc43fe26b9486eaa3d669e49e42fe0%29%0A%20%20%20%20%20%20%20%20%20%20%20%20%3B%0A%0A%20%20%20%20%20%20%20%20%20%20%20%20%0A%20%20%20%20%20%20%20%20%0A%20%20%20%20%0A%20%20%20%20%20%20%20%20var%20marker_f0d4d75b10fe4b6e97a75214a1980665%20%3D%20L.marker%28%0A%20%20%20%20%20%20%20%20%20%20%20%20%5B29.1638%2C%20-81.075%5D%2C%0A%20%20%20%20%20%20%20%20%20%20%20%20%7B%0A%20%20%20%20%20%20%20%20%20%20%20%20%20%20%20%20icon%3A%20new%20L.Icon.Default%28%29%2C%0A%20%20%20%20%20%20%20%20%20%20%20%20%20%20%20%20%7D%0A%20%20%20%20%20%20%20%20%20%20%20%20%29.addTo%28map_f236993a30f24f9bb060c6b58feb13f7%29%3B%0A%20%20%20%20%20%20%20%20%0A%20%20%20%20%0A%0A%20%20%20%20%20%20%20%20%20%20%20%20%20%20%20%20var%20custom_icon_9dea97e2121d40ae8a791b2aece875cf%20%3D%20L.icon%28%7B%0A%20%20%20%20%20%20%20%20%20%20%20%20%20%20%20%20%20%20%20%20iconUrl%3A%20%27https%3A//github.com/jungwonsherryzang/Cloud-based-Web-Application-with-ADS-B-real-time-data/blob/main/plane_icon.png%27%2C%0A%20%20%20%20%20%20%20%20%20%20%20%20%20%20%20%20%20%20%20%20iconSize%3A%20%5B16%2C16%5D%2C%0A%20%20%20%20%20%20%20%20%20%20%20%20%20%20%20%20%20%20%20%20iconAnchor%3A%20%5Bc%2Ce%5D%2C%0A%0A%20%20%20%20%20%20%20%20%20%20%20%20%20%20%20%20%20%20%20%20%0A%20%20%20%20%20%20%20%20%20%20%20%20%20%20%20%20%20%20%20%20%0A%20%20%20%20%20%20%20%20%20%20%20%20%20%20%20%20%20%20%20%20%0A%0A%20%20%20%20%20%20%20%20%20%20%20%20%20%20%20%20%20%20%20%20%0A%20%20%20%20%20%20%20%20%20%20%20%20%20%20%20%20%20%20%20%20%7D%29%3B%0A%20%20%20%20%20%20%20%20%20%20%20%20%20%20%20%20marker_f0d4d75b10fe4b6e97a75214a1980665.setIcon%28custom_icon_9dea97e2121d40ae8a791b2aece875cf%29%3B%0A%20%20%20%20%20%20%20%20%20%20%20%20%0A%20%20%20%20%0A%20%20%20%20%20%20%20%20%20%20%20%20var%20popup_8b8dd0c2600f492cbd3d66f3fb5805e8%20%3D%20L.popup%28%7BmaxWidth%3A%20%27100%25%27%0A%20%20%20%20%20%20%20%20%20%20%20%20%0A%20%20%20%20%20%20%20%20%20%20%20%20%7D%29%3B%0A%0A%20%20%20%20%20%20%20%20%20%20%20%20%0A%20%20%20%20%20%20%20%20%20%20%20%20%20%20%20%20var%20html_5bd6162acc5646cd8356d02ce6b650b2%20%3D%20%24%28%60%3Cdiv%20id%3D%22html_5bd6162acc5646cd8356d02ce6b650b2%22%20style%3D%22width%3A%20100.0%25%3B%20height%3A%20100.0%25%3B%22%3EERU874%20%20%3C/div%3E%60%29%5B0%5D%3B%0A%20%20%20%20%20%20%20%20%20%20%20%20%20%20%20%20popup_8b8dd0c2600f492cbd3d66f3fb5805e8.setContent%28html_5bd6162acc5646cd8356d02ce6b650b2%29%3B%0A%20%20%20%20%20%20%20%20%20%20%20%20%0A%0A%20%20%20%20%20%20%20%20%20%20%20%20marker_f0d4d75b10fe4b6e97a75214a1980665.bindPopup%28popup_8b8dd0c2600f492cbd3d66f3fb5805e8%29%0A%20%20%20%20%20%20%20%20%20%20%20%20%3B%0A%0A%20%20%20%20%20%20%20%20%20%20%20%20%0A%20%20%20%20%20%20%20%20%0A%20%20%20%20%0A%20%20%20%20%20%20%20%20var%20marker_40f45f69e77c422da555efc873aa4e5d%20%3D%20L.marker%28%0A%20%20%20%20%20%20%20%20%20%20%20%20%5B29.1751%2C%20-81.0592%5D%2C%0A%20%20%20%20%20%20%20%20%20%20%20%20%7B%0A%20%20%20%20%20%20%20%20%20%20%20%20%20%20%20%20icon%3A%20new%20L.Icon.Default%28%29%2C%0A%20%20%20%20%20%20%20%20%20%20%20%20%20%20%20%20%7D%0A%20%20%20%20%20%20%20%20%20%20%20%20%29.addTo%28map_f236993a30f24f9bb060c6b58feb13f7%29%3B%0A%20%20%20%20%20%20%20%20%0A%20%20%20%20%0A%0A%20%20%20%20%20%20%20%20%20%20%20%20%20%20%20%20var%20custom_icon_d6003e04396a48958200dabe67be7517%20%3D%20L.icon%28%7B%0A%20%20%20%20%20%20%20%20%20%20%20%20%20%20%20%20%20%20%20%20iconUrl%3A%20%27https%3A//github.com/jungwonsherryzang/Cloud-based-Web-Application-with-ADS-B-real-time-data/blob/main/plane_icon.png%27%2C%0A%20%20%20%20%20%20%20%20%20%20%20%20%20%20%20%20%20%20%20%20iconSize%3A%20%5B16%2C16%5D%2C%0A%20%20%20%20%20%20%20%20%20%20%20%20%20%20%20%20%20%20%20%20iconAnchor%3A%20%5Bc%2Ce%5D%2C%0A%0A%20%20%20%20%20%20%20%20%20%20%20%20%20%20%20%20%20%20%20%20%0A%20%20%20%20%20%20%20%20%20%20%20%20%20%20%20%20%20%20%20%20%0A%20%20%20%20%20%20%20%20%20%20%20%20%20%20%20%20%20%20%20%20%0A%0A%20%20%20%20%20%20%20%20%20%20%20%20%20%20%20%20%20%20%20%20%0A%20%20%20%20%20%20%20%20%20%20%20%20%20%20%20%20%20%20%20%20%7D%29%3B%0A%20%20%20%20%20%20%20%20%20%20%20%20%20%20%20%20marker_40f45f69e77c422da555efc873aa4e5d.setIcon%28custom_icon_d6003e04396a48958200dabe67be7517%29%3B%0A%20%20%20%20%20%20%20%20%20%20%20%20%0A%20%20%20%20%0A%20%20%20%20%20%20%20%20%20%20%20%20var%20popup_4d59e02487b14bfdb649d1bf04035f45%20%3D%20L.popup%28%7BmaxWidth%3A%20%27100%25%27%0A%20%20%20%20%20%20%20%20%20%20%20%20%0A%20%20%20%20%20%20%20%20%20%20%20%20%7D%29%3B%0A%0A%20%20%20%20%20%20%20%20%20%20%20%20%0A%20%20%20%20%20%20%20%20%20%20%20%20%20%20%20%20var%20html_1a1451e777a449a081dff209f737c4fb%20%3D%20%24%28%60%3Cdiv%20id%3D%22html_1a1451e777a449a081dff209f737c4fb%22%20style%3D%22width%3A%20100.0%25%3B%20height%3A%20100.0%25%3B%22%3EN22010%20%20%3C/div%3E%60%29%5B0%5D%3B%0A%20%20%20%20%20%20%20%20%20%20%20%20%20%20%20%20popup_4d59e02487b14bfdb649d1bf04035f45.setContent%28html_1a1451e777a449a081dff209f737c4fb%29%3B%0A%20%20%20%20%20%20%20%20%20%20%20%20%0A%0A%20%20%20%20%20%20%20%20%20%20%20%20marker_40f45f69e77c422da555efc873aa4e5d.bindPopup%28popup_4d59e02487b14bfdb649d1bf04035f45%29%0A%20%20%20%20%20%20%20%20%20%20%20%20%3B%0A%0A%20%20%20%20%20%20%20%20%20%20%20%20%0A%20%20%20%20%20%20%20%20%0A%20%20%20%20%0A%20%20%20%20%20%20%20%20var%20marker_3187ccc614ee4d4b801b69bb9cb278d8%20%3D%20L.marker%28%0A%20%20%20%20%20%20%20%20%20%20%20%20%5B29.1727%2C%20-81.0777%5D%2C%0A%20%20%20%20%20%20%20%20%20%20%20%20%7B%0A%20%20%20%20%20%20%20%20%20%20%20%20%20%20%20%20icon%3A%20new%20L.Icon.Default%28%29%2C%0A%20%20%20%20%20%20%20%20%20%20%20%20%20%20%20%20%7D%0A%20%20%20%20%20%20%20%20%20%20%20%20%29.addTo%28map_f236993a30f24f9bb060c6b58feb13f7%29%3B%0A%20%20%20%20%20%20%20%20%0A%20%20%20%20%0A%0A%20%20%20%20%20%20%20%20%20%20%20%20%20%20%20%20var%20custom_icon_22d0b78791604fc9932adf5cb06393a0%20%3D%20L.icon%28%7B%0A%20%20%20%20%20%20%20%20%20%20%20%20%20%20%20%20%20%20%20%20iconUrl%3A%20%27https%3A//github.com/jungwonsherryzang/Cloud-based-Web-Application-with-ADS-B-real-time-data/blob/main/plane_icon.png%27%2C%0A%20%20%20%20%20%20%20%20%20%20%20%20%20%20%20%20%20%20%20%20iconSize%3A%20%5B16%2C16%5D%2C%0A%20%20%20%20%20%20%20%20%20%20%20%20%20%20%20%20%20%20%20%20iconAnchor%3A%20%5Bc%2Ce%5D%2C%0A%0A%20%20%20%20%20%20%20%20%20%20%20%20%20%20%20%20%20%20%20%20%0A%20%20%20%20%20%20%20%20%20%20%20%20%20%20%20%20%20%20%20%20%0A%20%20%20%20%20%20%20%20%20%20%20%20%20%20%20%20%20%20%20%20%0A%0A%20%20%20%20%20%20%20%20%20%20%20%20%20%20%20%20%20%20%20%20%0A%20%20%20%20%20%20%20%20%20%20%20%20%20%20%20%20%20%20%20%20%7D%29%3B%0A%20%20%20%20%20%20%20%20%20%20%20%20%20%20%20%20marker_3187ccc614ee4d4b801b69bb9cb278d8.setIcon%28custom_icon_22d0b78791604fc9932adf5cb06393a0%29%3B%0A%20%20%20%20%20%20%20%20%20%20%20%20%0A%20%20%20%20%0A%20%20%20%20%20%20%20%20%20%20%20%20var%20popup_b08956e78fef4e7e8ac46eaadd9c7542%20%3D%20L.popup%28%7BmaxWidth%3A%20%27100%25%27%0A%20%20%20%20%20%20%20%20%20%20%20%20%0A%20%20%20%20%20%20%20%20%20%20%20%20%7D%29%3B%0A%0A%20%20%20%20%20%20%20%20%20%20%20%20%0A%20%20%20%20%20%20%20%20%20%20%20%20%20%20%20%20var%20html_5ab2e44513184feaa5d66b9f73a56b08%20%3D%20%24%28%60%3Cdiv%20id%3D%22html_5ab2e44513184feaa5d66b9f73a56b08%22%20style%3D%22width%3A%20100.0%25%3B%20height%3A%20100.0%25%3B%22%3EJED185%20%20%3C/div%3E%60%29%5B0%5D%3B%0A%20%20%20%20%20%20%20%20%20%20%20%20%20%20%20%20popup_b08956e78fef4e7e8ac46eaadd9c7542.setContent%28html_5ab2e44513184feaa5d66b9f73a56b08%29%3B%0A%20%20%20%20%20%20%20%20%20%20%20%20%0A%0A%20%20%20%20%20%20%20%20%20%20%20%20marker_3187ccc614ee4d4b801b69bb9cb278d8.bindPopup%28popup_b08956e78fef4e7e8ac46eaadd9c7542%29%0A%20%20%20%20%20%20%20%20%20%20%20%20%3B%0A%0A%20%20%20%20%20%20%20%20%20%20%20%20%0A%20%20%20%20%20%20%20%20%0A%3C/script%3E onload=\"this.contentDocument.open();this.contentDocument.write(    decodeURIComponent(this.getAttribute('data-html')));this.contentDocument.close();\" \"allowfullscreen\" \"webkitallowfullscreen\" \"mozallowfullscreen\"></iframe>"
            ]
          },
          "metadata": {},
          "execution_count": 29
        }
      ]
    }
  ]
}